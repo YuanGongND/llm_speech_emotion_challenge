{
  "nbformat": 4,
  "nbformat_minor": 0,
  "metadata": {
    "colab": {
      "provenance": [],
      "include_colab_link": true
    },
    "kernelspec": {
      "name": "python3",
      "display_name": "Python 3"
    },
    "language_info": {
      "name": "python"
    }
  },
  "cells": [
    {
      "cell_type": "markdown",
      "metadata": {
        "id": "view-in-github",
        "colab_type": "text"
      },
      "source": [
        "<a href=\"https://colab.research.google.com/github/YuanGongND/llm_speech_emotion_challenge/blob/main/Task3_Emotion.ipynb\" target=\"_parent\"><img src=\"https://colab.research.google.com/assets/colab-badge.svg\" alt=\"Open In Colab\"/></a>"
      ]
    },
    {
      "cell_type": "markdown",
      "source": [
        "**Step 0. Request the data**\n",
        "\n",
        "We use IEMOCAP dataset for this challenge. Please obtain its license first (if you already have it, please skip step 1). Specifically,\n",
        "1. Submit a request to SAIL lab at USC use [this link](https://docs.google.com/forms/d/e/1FAIpQLScBecgI2K5bFTrXi_-05IYSSwOcqL5mX7dh57xcJV1m_NoznA/viewform).\n",
        "2. Registering this challenge use [this link](https://docs.google.com/forms/d/102aDN45BpiDoUdS3ZqN63Q9oTFBcICPsvmo-5GFrU3U/viewform?ts=66321d62&edit_requested=true) attach the approved license or screenshot of the approval email from USC as proof. We will then email you the **curated data in JSON format that can be directly used in this script (i.e., you do not need to preprocess the dataset)**.\n"
      ],
      "metadata": {
        "id": "cu5VFNxy3VPf"
      }
    },
    {
      "cell_type": "markdown",
      "source": [
        "**Step 1. Install and import packages**"
      ],
      "metadata": {
        "id": "3g3BPyX0dJcE"
      }
    },
    {
      "cell_type": "code",
      "source": [
        "# Code author: Yuan Gong\n",
        "# Email: yuangong@mit.edu\n",
        "# Institution: Massachusetts Institute of Technology\n",
        "# Date: 04/26\n",
        "\n",
        "# Data Author: Yuanchao Li\n",
        "# Email: yuanchao.li@ed.ac.uk\n",
        "# Institution: University of Edinburgh\n",
        "# Date: 04/26\n",
        "\n",
        "! pip install openai\n",
        "! pip install matplotlib seaborn scikit-learn\n",
        "! pip install tenacity\n",
        "\n",
        "import csv\n",
        "import json\n",
        "from sklearn.metrics import accuracy_score, confusion_matrix\n",
        "import matplotlib.pyplot as plt\n",
        "import seaborn as sns\n",
        "from tenacity import (\n",
        "    retry,\n",
        "    stop_after_attempt,\n",
        "    wait_random_exponential,\n",
        ")\n",
        "import time\n",
        "from openai import OpenAI\n",
        "\n",
        "# use your openai key\n",
        "key = 'your_openai_key'"
      ],
      "metadata": {
        "colab": {
          "base_uri": "https://localhost:8080/"
        },
        "id": "tzE2qdmwcOvr",
        "outputId": "da2f6f7e-22f5-4639-eb3d-8fcb0fe22537"
      },
      "execution_count": null,
      "outputs": [
        {
          "output_type": "stream",
          "name": "stdout",
          "text": [
            "Requirement already satisfied: openai in /usr/local/lib/python3.10/dist-packages (1.23.6)\n",
            "Requirement already satisfied: anyio<5,>=3.5.0 in /usr/local/lib/python3.10/dist-packages (from openai) (3.7.1)\n",
            "Requirement already satisfied: distro<2,>=1.7.0 in /usr/lib/python3/dist-packages (from openai) (1.7.0)\n",
            "Requirement already satisfied: httpx<1,>=0.23.0 in /usr/local/lib/python3.10/dist-packages (from openai) (0.27.0)\n",
            "Requirement already satisfied: pydantic<3,>=1.9.0 in /usr/local/lib/python3.10/dist-packages (from openai) (2.7.0)\n",
            "Requirement already satisfied: sniffio in /usr/local/lib/python3.10/dist-packages (from openai) (1.3.1)\n",
            "Requirement already satisfied: tqdm>4 in /usr/local/lib/python3.10/dist-packages (from openai) (4.66.2)\n",
            "Requirement already satisfied: typing-extensions<5,>=4.7 in /usr/local/lib/python3.10/dist-packages (from openai) (4.11.0)\n",
            "Requirement already satisfied: idna>=2.8 in /usr/local/lib/python3.10/dist-packages (from anyio<5,>=3.5.0->openai) (3.7)\n",
            "Requirement already satisfied: exceptiongroup in /usr/local/lib/python3.10/dist-packages (from anyio<5,>=3.5.0->openai) (1.2.1)\n",
            "Requirement already satisfied: certifi in /usr/local/lib/python3.10/dist-packages (from httpx<1,>=0.23.0->openai) (2024.2.2)\n",
            "Requirement already satisfied: httpcore==1.* in /usr/local/lib/python3.10/dist-packages (from httpx<1,>=0.23.0->openai) (1.0.5)\n",
            "Requirement already satisfied: h11<0.15,>=0.13 in /usr/local/lib/python3.10/dist-packages (from httpcore==1.*->httpx<1,>=0.23.0->openai) (0.14.0)\n",
            "Requirement already satisfied: annotated-types>=0.4.0 in /usr/local/lib/python3.10/dist-packages (from pydantic<3,>=1.9.0->openai) (0.6.0)\n",
            "Requirement already satisfied: pydantic-core==2.18.1 in /usr/local/lib/python3.10/dist-packages (from pydantic<3,>=1.9.0->openai) (2.18.1)\n",
            "Requirement already satisfied: matplotlib in /usr/local/lib/python3.10/dist-packages (3.7.1)\n",
            "Requirement already satisfied: seaborn in /usr/local/lib/python3.10/dist-packages (0.13.1)\n",
            "Requirement already satisfied: scikit-learn in /usr/local/lib/python3.10/dist-packages (1.2.2)\n",
            "Requirement already satisfied: contourpy>=1.0.1 in /usr/local/lib/python3.10/dist-packages (from matplotlib) (1.2.1)\n",
            "Requirement already satisfied: cycler>=0.10 in /usr/local/lib/python3.10/dist-packages (from matplotlib) (0.12.1)\n",
            "Requirement already satisfied: fonttools>=4.22.0 in /usr/local/lib/python3.10/dist-packages (from matplotlib) (4.51.0)\n",
            "Requirement already satisfied: kiwisolver>=1.0.1 in /usr/local/lib/python3.10/dist-packages (from matplotlib) (1.4.5)\n",
            "Requirement already satisfied: numpy>=1.20 in /usr/local/lib/python3.10/dist-packages (from matplotlib) (1.25.2)\n",
            "Requirement already satisfied: packaging>=20.0 in /usr/local/lib/python3.10/dist-packages (from matplotlib) (24.0)\n",
            "Requirement already satisfied: pillow>=6.2.0 in /usr/local/lib/python3.10/dist-packages (from matplotlib) (9.4.0)\n",
            "Requirement already satisfied: pyparsing>=2.3.1 in /usr/local/lib/python3.10/dist-packages (from matplotlib) (3.1.2)\n",
            "Requirement already satisfied: python-dateutil>=2.7 in /usr/local/lib/python3.10/dist-packages (from matplotlib) (2.8.2)\n",
            "Requirement already satisfied: pandas>=1.2 in /usr/local/lib/python3.10/dist-packages (from seaborn) (2.0.3)\n",
            "Requirement already satisfied: scipy>=1.3.2 in /usr/local/lib/python3.10/dist-packages (from scikit-learn) (1.11.4)\n",
            "Requirement already satisfied: joblib>=1.1.1 in /usr/local/lib/python3.10/dist-packages (from scikit-learn) (1.4.0)\n",
            "Requirement already satisfied: threadpoolctl>=2.0.0 in /usr/local/lib/python3.10/dist-packages (from scikit-learn) (3.4.0)\n",
            "Requirement already satisfied: pytz>=2020.1 in /usr/local/lib/python3.10/dist-packages (from pandas>=1.2->seaborn) (2023.4)\n",
            "Requirement already satisfied: tzdata>=2022.1 in /usr/local/lib/python3.10/dist-packages (from pandas>=1.2->seaborn) (2024.1)\n",
            "Requirement already satisfied: six>=1.5 in /usr/local/lib/python3.10/dist-packages (from python-dateutil>=2.7->matplotlib) (1.16.0)\n",
            "Requirement already satisfied: tenacity in /usr/local/lib/python3.10/dist-packages (8.2.3)\n"
          ]
        }
      ]
    },
    {
      "cell_type": "markdown",
      "source": [
        "**Step 2. Load the data**\n",
        "\n",
        "The explanation for each key is as follows:\n",
        "\n",
        "- `need_prediction`: this key indicates whether this utterance should be included in the prediction procedure. \"yes\" denotes the utterances labeled with Big4 emotions, which are widely used for emotion recognition in IEMOCAP. \"no\" denotes all other utterances. Note that we have removed the utterances that have no human annotations.\n",
        "\n",
        "- `emotion`: this key indicates the emotion label of the utterance.\n",
        "\n",
        "- `id`: this key indicates the utterance ID, which is also the name of the audio file in IEMOCAP corpus. The ID is exactly the same as the raw ID in IEMOCAP.\n",
        "\n",
        "- `speaker`: this key indicates the speaker of the utterance. Since there are two speakers in each session, there are ten speakers in total. It's important to note that the sixth character of the `id` DOES NOT represent the gender of the speaker, but rather the gender of the person currently wearing the motion capture device. Please use our provided `speaker` as the speaker ID.\n",
        "\n",
        "- `groundtruth`: this key indicates the original human transcription provided by IEMOCAP.\n",
        "\n",
        "- The remaining ten keys indicate the ASR transcription generated by respective ASR model."
      ],
      "metadata": {
        "id": "0FInPdbcdTb8"
      }
    },
    {
      "cell_type": "code",
      "execution_count": null,
      "metadata": {
        "colab": {
          "base_uri": "https://localhost:8080/"
        },
        "id": "7ey41XzLRXzU",
        "outputId": "e170df7a-6053-4179-9210-fa9b590563a8"
      },
      "outputs": [
        {
          "output_type": "stream",
          "name": "stdout",
          "text": [
            "--2024-04-27 06:59:36--  https://www.dropbox.com/scl/fi/6hk7rawzrahce2z59enrx/iemocap_script_allemo.json?rlkey=3hnhdjynam6zkmj02046vraie&dl=1\n",
            "Resolving www.dropbox.com (www.dropbox.com)... 162.125.1.18, 2620:100:6016:18::a27d:112\n",
            "Connecting to www.dropbox.com (www.dropbox.com)|162.125.1.18|:443... connected.\n",
            "HTTP request sent, awaiting response... 302 Found\n",
            "Location: https://ucd42e548369cc46ee8d4cf68303.dl.dropboxusercontent.com/cd/0/inline/CRx0XsWn90dBbtQpWcJu5kvx8uN9gwgMvAqqKzcMQTX7IUaz54oJonwX5mAHKR7ynsnMz9yH3ydG4j_2t9m8kZQDdolactIkssKlZz4N8d_HEcCEGF8uPLlr8Qz9dYT7xQog2TMVFuHS7bBpSmHMyPtn/file?dl=1# [following]\n",
            "--2024-04-27 06:59:37--  https://ucd42e548369cc46ee8d4cf68303.dl.dropboxusercontent.com/cd/0/inline/CRx0XsWn90dBbtQpWcJu5kvx8uN9gwgMvAqqKzcMQTX7IUaz54oJonwX5mAHKR7ynsnMz9yH3ydG4j_2t9m8kZQDdolactIkssKlZz4N8d_HEcCEGF8uPLlr8Qz9dYT7xQog2TMVFuHS7bBpSmHMyPtn/file?dl=1\n",
            "Resolving ucd42e548369cc46ee8d4cf68303.dl.dropboxusercontent.com (ucd42e548369cc46ee8d4cf68303.dl.dropboxusercontent.com)... 162.125.1.15, 2620:100:6016:15::a27d:10f\n",
            "Connecting to ucd42e548369cc46ee8d4cf68303.dl.dropboxusercontent.com (ucd42e548369cc46ee8d4cf68303.dl.dropboxusercontent.com)|162.125.1.15|:443... connected.\n",
            "HTTP request sent, awaiting response... 200 OK\n",
            "Length: 4773017 (4.6M) [application/binary]\n",
            "Saving to: ‘./train.json’\n",
            "\n",
            "./train.json        100%[===================>]   4.55M  --.-KB/s    in 0.06s   \n",
            "\n",
            "2024-04-27 06:59:37 (72.4 MB/s) - ‘./train.json’ saved [4773017/4773017]\n",
            "\n",
            "session in the data\n",
            "['Ses01F', 'Ses01M', 'Ses02F', 'Ses02M', 'Ses03F', 'Ses03M', 'Ses04F', 'Ses04M', 'Ses05F', 'Ses05M']\n",
            "-------------\n",
            "a sample entry:\n",
            "need_prediction: no\n",
            "emotion: fru\n",
            "id: Ses01F_script01_1_F000\n",
            "speaker: Ses01_F\n",
            "groundtruth: What's he going to say?\n",
            "hubertlarge: what's he ging to say\n",
            "w2v2100: what's he gen to say\n",
            "w2v2960: what's he going to say\n",
            "w2v2960large: what's he going to say\n",
            "w2v2960largeself: what's he going to say\n",
            "wavlmplus: whats he gon to say\n",
            "whisperbase: What's he gonna say?\n",
            "whisperlarge: What's he gonna say?\n",
            "whispermedium: What's he gonna say?\n",
            "whispersmall: What's he gonna say?\n",
            "whispertiny: What's he gonna say?\n"
          ]
        }
      ],
      "source": [
        "! wget -O ./train.json \"we will send you the link when you register the challenge\"\n",
        "\n",
        "file_path = './train.json'\n",
        "\n",
        "# Open the JSON file and load its contents into a Python dictionary\n",
        "with open(file_path, 'r') as file:\n",
        "    data = json.load(file)\n",
        "\n",
        "session_dict = {}\n",
        "\n",
        "for item in data:\n",
        "    session_id = item['id'][:6]\n",
        "    if session_id not in session_dict:\n",
        "        session_dict[session_id] = []\n",
        "    session_dict[session_id].append(item)\n",
        "\n",
        "# list the session in the training data\n",
        "print('session in the data')\n",
        "print(list(session_dict.keys()))\n",
        "\n",
        "# print a sample entry of the first session\n",
        "first_session = session_dict[list(session_dict.keys())[0]]\n",
        "\n",
        "# Print each key-value pair in the first dictionary\n",
        "print('-------------\\na sample entry:')\n",
        "for key, value in first_session[0].items():\n",
        "    print(f\"{key}: {value}\")"
      ]
    },
    {
      "cell_type": "markdown",
      "source": [
        "**Step 3. Create an emotion predictor that takes context and spoken text as input and output an emotion label (what you need to modify).**"
      ],
      "metadata": {
        "id": "1dQRaPCiYWw8"
      }
    },
    {
      "cell_type": "code",
      "source": [
        "client = OpenAI(api_key=key)\n",
        "log = []\n",
        "\n",
        "\n",
        "@retry(wait=wait_random_exponential(min=1, max=60), stop=stop_after_attempt(10))\n",
        "def gpt_request(**kwargs):\n",
        "  return client.chat.completions.create(**kwargs)\n",
        "\n",
        "# predict the emotion of a sentence considerating the conversation context, using gpt-3.5-turbo based on whisper-tiny transcription\n",
        "def gpt_emotion_predictor(context, cur_input, number_of_contexts=3):\n",
        "  \"\"\"\n",
        "  Predicts the emotional state of a speaker based on the current input sentence and the conversational context.\n",
        "\n",
        "  Parameters:\n",
        "  context (list of dict): A list of dictionaries, each representing a previous conversational turn. Each dictionary\n",
        "                          should contain at least the keys 'speaker' and 'sentence' indicating who the speaker was\n",
        "                          and what they said, respectively.\n",
        "  cur_input (dict): A dictionary representing the current sentence to be analyzed. It should contain at least the keys\n",
        "                    'speaker' and 'sentence', similar to the dictionaries in `context`.\n",
        "  number_of_contexts (int, optional): The number of contextual entries to consider for emotion prediction. Defaults to 3. The more context, the more expensive.\n",
        "\n",
        "  Returns:\n",
        "  str: The predicted emotion for the current sentence, from a set of predefined emotions such as 'happy', 'sad',\n",
        "        'neutral', or 'angry'.\n",
        "  \"\"\"\n",
        "\n",
        "  emotion_code_dict = {'happy': 'hap', 'neutral': 'neu', 'angry': 'ang', 'sad': 'sad'}\n",
        "  # for simplicity, we just use whisper-tiny's transcription, feel free to use any transcription we provide, and you can combine them\n",
        "  background = 'Two speakers are talking. The conversation is:\\n'\n",
        "  context = '\\n'.join(f\"{item['speaker']}: {item['whispertiny']}\" for item in context[-number_of_contexts:]) + '\\n'\n",
        "  cur_sentence = f\"Now speaker {cur_input['speaker']} says: '{cur_input['whispertiny']}'. \\n\"\n",
        "  task = f\"Predict the emotion of the sentence '{cur_input['whispertiny']}' from the options [happy, sad, neutral, angry], consider the conversation context, do not explain, only output the label in [happy, sad, neutral, angry].\"\n",
        "  prompt = background + context + cur_sentence + task\n",
        "  #print(prompt)\n",
        "  chat_history = [{\"role\": \"system\", \"content\": \"You are a speech emotion predictor.\"},\n",
        "                  {\"role\": \"user\", \"content\": prompt}]\n",
        "  response = gpt_request(\n",
        "             model=\"gpt-3.5-turbo\",\n",
        "             messages=chat_history).choices[0].message.content.strip().lower()\n",
        "  #print('Predicted emotion:', response)\n",
        "  #print('----------')\n",
        "  if response not in emotion_code_dict:\n",
        "    # model may still output emotion that is not in our list, project to neutral\n",
        "    # print('prediction not in the options ', response)\n",
        "    pred_emotion = 'neu'\n",
        "  else:\n",
        "    pred_emotion = emotion_code_dict[response]\n",
        "  log.append([prompt, response])\n",
        "  return pred_emotion"
      ],
      "metadata": {
        "id": "NQczV4TnYXHR"
      },
      "execution_count": null,
      "outputs": []
    },
    {
      "cell_type": "markdown",
      "source": [
        "**Step 4. Predict the entire session and output a sequence of emotion prediction for each sentence that requires a prediction.**"
      ],
      "metadata": {
        "id": "0fEKM2VAeacv"
      }
    },
    {
      "cell_type": "code",
      "source": [
        "# input an entire session (conversation), and return a sequence of predictions of each sentence (that requires a prediction)\n",
        "def predict_session(session):\n",
        "  num_sentence = len(session)\n",
        "  # a sequence of ground truth and predicted emotions, only record sentences that need prediction (i.e., emotion falls in [hap, sad, neu, ang])\n",
        "  emotion_ground_truth, emotion_prediction = [], []\n",
        "  for i, cur_sentence in enumerate(session):\n",
        "    need_pred = cur_sentence['need_prediction']\n",
        "    # if an emotion prediction is required for this sentence\n",
        "    if need_pred == 'yes':\n",
        "      cur_label = cur_sentence['emotion']\n",
        "      # context is all previous sentences in the conversation\n",
        "      cur_context = session[0:i]\n",
        "      # input both context and the current sentence to the emotion predictor\n",
        "      try:\n",
        "        # avoid send request too frequent\n",
        "        time.sleep(0.1)\n",
        "        cur_pred = gpt_emotion_predictor(cur_context, cur_sentence)\n",
        "        emotion_ground_truth.append(cur_label)\n",
        "        emotion_prediction.append(cur_pred)\n",
        "      except:\n",
        "        # if there is an error, fill a neutral to keep the output of same dimension\n",
        "        print('openai api has an error.')\n",
        "        emotion_ground_truth.append('neu')\n",
        "        emotion_prediction.append('neu')\n",
        "    # # sanity check with few samples\n",
        "    # if i > 5:\n",
        "    #   break\n",
        "  return emotion_ground_truth, emotion_prediction\n",
        "\n",
        "# predict for all sessions\n",
        "all_ground_truth, all_pred = [], []\n",
        "for session in session_dict:\n",
        "  # predictions of each session\n",
        "  print('session', session)\n",
        "  emotion_ground_truth, emotion_prediction = predict_session(session_dict[session])\n",
        "  print('# ground truth emotion', len(emotion_ground_truth), '# predicted emotion', len(emotion_prediction))\n",
        "  # concatenae predictions of all sessions\n",
        "  all_ground_truth += emotion_ground_truth\n",
        "  all_pred += emotion_prediction\n",
        "\n",
        "csv.writer(open('./pred.csv', 'w', newline='')).writerow(all_pred)\n",
        "csv.writer(open('./truth.csv', 'w', newline='')).writerow(all_ground_truth)\n",
        "json.dump(log, open('./log.json', 'w'), indent=4)"
      ],
      "metadata": {
        "colab": {
          "base_uri": "https://localhost:8080/"
        },
        "id": "aBO-0RR2eQjC",
        "outputId": "6259a522-ff1e-4899-cd73-707dd650b2e7"
      },
      "execution_count": null,
      "outputs": [
        {
          "output_type": "stream",
          "name": "stdout",
          "text": [
            "session Ses01F\n",
            "# ground truth emotion 259 # predicted emotion 259\n",
            "session Ses01M\n",
            "# ground truth emotion 295 # predicted emotion 295\n",
            "session Ses02F\n",
            "# ground truth emotion 254 # predicted emotion 254\n",
            "session Ses02M\n",
            "# ground truth emotion 239 # predicted emotion 239\n",
            "session Ses03F\n",
            "openai api has an error.\n",
            "openai api has an error.\n",
            "openai api has an error.\n",
            "# ground truth emotion 273 # predicted emotion 273\n",
            "session Ses03M\n",
            "# ground truth emotion 250 # predicted emotion 250\n",
            "session Ses04F\n",
            "# ground truth emotion 240 # predicted emotion 240\n",
            "session Ses04M\n",
            "# ground truth emotion 257 # predicted emotion 257\n",
            "session Ses05F\n",
            "# ground truth emotion 241 # predicted emotion 241\n",
            "session Ses05M\n",
            "# ground truth emotion 269 # predicted emotion 269\n"
          ]
        }
      ]
    },
    {
      "cell_type": "markdown",
      "source": [
        "**Step 5. Evaluate the model**\n",
        "\n",
        "You need to send pred.csv back to us."
      ],
      "metadata": {
        "id": "g5ieDGUneqov"
      }
    },
    {
      "cell_type": "code",
      "source": [
        "def evaluate_emotions(emotion_ground_truth, emotion_prediction):\n",
        "    \"\"\"\n",
        "    Calculates the unweighted accuracy and plots the confusion matrix for given lists of ground truth and predicted emotions.\n",
        "\n",
        "    Parameters:\n",
        "    emotion_ground_truth (list of str): The list of true emotion labels.\n",
        "    emotion_prediction (list of str): The list of predicted emotion labels.\n",
        "    \"\"\"\n",
        "    # Calculate unweighted accuracy\n",
        "    accuracy = accuracy_score(emotion_ground_truth, emotion_prediction)\n",
        "    print(f\"Unweighted Accuracy: {accuracy}\")\n",
        "\n",
        "    # Generate confusion matrix\n",
        "    conf_matrix = confusion_matrix(emotion_ground_truth, emotion_prediction, labels=['neu', 'sad', 'hap', 'ang'])\n",
        "\n",
        "    # Plot the confusion matrix\n",
        "    plt.figure(figsize=(8, 6))\n",
        "    sns.heatmap(conf_matrix, annot=True, fmt=\"d\", cmap=\"Blues\", xticklabels=['neu', 'sad', 'hap', 'ang'], yticklabels=['neu', 'sad', 'hap', 'ang'])\n",
        "    plt.title('Confusion Matrix')\n",
        "    plt.xlabel('Predicted Labels')\n",
        "    plt.ylabel('True Labels')\n",
        "    plt.show()\n",
        "\n",
        "evaluate_emotions(all_ground_truth, all_pred)"
      ],
      "metadata": {
        "colab": {
          "base_uri": "https://localhost:8080/",
          "height": 581
        },
        "id": "EbHmCUiWYXso",
        "outputId": "834423b0-e863-44d2-faaa-306f857e49e5"
      },
      "execution_count": null,
      "outputs": [
        {
          "output_type": "stream",
          "name": "stdout",
          "text": [
            "Unweighted Accuracy: 0.4470314318975553\n"
          ]
        },
        {
          "output_type": "display_data",
          "data": {
            "text/plain": [
              "<Figure size 800x600 with 2 Axes>"
            ],
            "image/png": "[encoded data removed]"
          },
          "metadata": {}
        }
      ]
    }
  ]
}